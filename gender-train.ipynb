{
 "cells": [
  {
   "cell_type": "code",
   "execution_count": 7,
   "metadata": {},
   "outputs": [],
   "source": [
    "import dlib\n",
    "import cv2\n",
    "import imutils\n",
    "from imutils.face_utils import FaceAligner\n",
    "import os\n",
    "import numpy as np\n",
    "import pandas as pd\n",
    "import keras\n",
    "import shutil\n",
    "import matplotlib.pyplot as plt\n",
    "from sklearn.model_selection import train_test_split\n",
    "from keras.preprocessing.image import load_img, img_to_array\n",
    "\n",
    "from keras.callbacks import ModelCheckpoint,EarlyStopping\n",
    "from keras.layers import Dense, Activation, Dropout, Flatten, Input, Convolution2D, ZeroPadding2D, MaxPooling2D, Activation\n",
    "from keras.layers import Conv2D, AveragePooling2D\n",
    "from keras.models import Model, Sequential\n",
    "\n",
    "import scipy.io\n",
    "from datetime import datetime, timedelta"
   ]
  },
  {
   "cell_type": "code",
   "execution_count": 8,
   "metadata": {},
   "outputs": [],
   "source": [
    "target_size = (224, 224)\n",
    "# yuz tespiti yapan detektor\n",
    "face_detector = dlib.get_frontal_face_detector()\n",
    "\n",
    "# fotografta yuz var mi kontrolu\n",
    "def check_detection(img):\n",
    "    exact_image = False\n",
    "    if type(img).__module__ == np.__name__:\n",
    "        exact_image = True\n",
    "\n",
    "    base64_img = False\n",
    "    if len(img) > 11 and img[0:11] == \"data:image/\":\n",
    "        base64_img = True\n",
    "\n",
    "\n",
    "    elif not exact_image:  # image path passed as input\n",
    "\n",
    "        if not os.path.isfile(img):\n",
    "            raise ValueError(\"Confirm that \", img, \" exists\")\n",
    "\n",
    "        img = cv2.imread(img)\n",
    "\n",
    "    gray = cv2.cvtColor(img, cv2.COLOR_BGR2GRAY)\n",
    "    rects, scores, idx = face_detector.run(gray,1,-1)\n",
    "            \n",
    "    if len(rects) > 0:\n",
    "        return True\n",
    "    else:\n",
    "        return False\n",
    "    \n",
    "# yuz tespit eden fonksyion\n",
    "def detect_face(img):\n",
    "    exact_image = False\n",
    "    if type(img).__module__ == np.__name__:\n",
    "        exact_image = True\n",
    "\n",
    "    base64_img = False\n",
    "    if len(img) > 11 and img[0:11] == \"data:image/\":\n",
    "        base64_img = True\n",
    "\n",
    "    elif not exact_image:\n",
    "        if not os.path.isfile(img):\n",
    "            raise ValueError(\"Confirm that \", img, \" exists\")\n",
    "\n",
    "        img = cv2.imread(img)\n",
    "\n",
    "    gray = cv2.cvtColor(img, cv2.COLOR_BGR2GRAY)\n",
    "    # rects: yuz tespiti yapilan cerceve\n",
    "    # scores: yuz tespiti skorlari\n",
    "    # best_score_index: en yuksek skora sahip yuzun indisi\n",
    "    rects, scores, idx = face_detector.run(gray,1,-1)\n",
    "    best_score_index = np.argmax(scores)\n",
    "    faces = []\n",
    "    # tespit edilen yuzler fotograftan kirpiliyor \n",
    "    for rect in rects:\n",
    "        detected_face = img[max(0, rect.top()): min(rect.bottom(), img.shape[0]),\n",
    "                    max(0, rect.left()): min(rect.right(), img.shape[1])]\n",
    "        \n",
    "        # fotograflar 224, 224 hale getiriliyor\n",
    "        detected_face = cv2.resize(detected_face, (target_size[0], target_size[1]))\n",
    "        faces.append(detected_face)\n",
    "\n",
    "    return faces[best_score_index]"
   ]
  },
  {
   "cell_type": "code",
   "execution_count": 9,
   "metadata": {},
   "outputs": [],
   "source": [
    "# veri setinde yasi hesaplayan fonksiyon\n",
    "def datenum_to_datetime(datenum):\n",
    "    days = datenum % 1\n",
    "\n",
    "    hours = days % 1 * 24\n",
    "    minutes = hours % 1 * 60\n",
    "    seconds = minutes % 1 * 60\n",
    "    exact_date = datetime.fromordinal(int(datenum)) \\\n",
    "                 + timedelta(days=int(days)) + timedelta(hours=int(hours)) \\\n",
    "                 + timedelta(minutes=int(minutes)) + timedelta(seconds=round(seconds)) \\\n",
    "                 - timedelta(days=366)\n",
    "\n",
    "    return exact_date.year"
   ]
  },
  {
   "cell_type": "code",
   "execution_count": 10,
   "metadata": {},
   "outputs": [],
   "source": [
    "# veriyi uygun formata getiren fonksiyon\n",
    "def get_pixels(img_path):\n",
    "    new_img_path = \"wiki_crop/\" + img_path[0]\n",
    "\n",
    "    img = load_img(new_img_path, grayscale=False, target_size=(224, 224))\n",
    "    img_pixels = img_to_array(img)\n",
    "    img_pixels = np.expand_dims(img_pixels, axis=0)\n",
    "    img_pixels /= 255\n",
    "    return img_pixels"
   ]
  },
  {
   "cell_type": "code",
   "execution_count": 11,
   "metadata": {},
   "outputs": [],
   "source": [
    "# verinin okunmasi\n",
    "mat = scipy.io.loadmat('wiki_crop/wiki.mat')\n",
    "instances = mat['wiki'][0][0][0].shape[1]\n",
    "\n",
    "columns = [\"dob\", \"photo_taken\", \"full_path\", \"gender\", \"name\", \"face_location\", \"face_score\", \"second_face_score\"]\n",
    "df = pd.DataFrame(index=range(0, instances), columns=columns)\n",
    "\n",
    "for i in mat:\n",
    "    if i == \"wiki\":\n",
    "        current_array = mat[i][0][0]\n",
    "for j in range(len(current_array)):\n",
    "    df[columns[j]] = pd.DataFrame(current_array[j][0])\n",
    "\n",
    "df['date_of_birth'] = df['dob'].apply(datenum_to_datetime)\n",
    "df['age'] = df['photo_taken'] - df['date_of_birth']\n",
    "# yuzu olmayan fotograflar cikartiliyor\n",
    "df = df[df['face_score'] != -np.inf]\n",
    "\n",
    "# birden fazla yuz barindiran fotograflar cikartiliyor\n",
    "df = df[df['second_face_score'].isna()]\n",
    "\n",
    "# yuz skoru threshold altinda kalanlar cikartiliyor\n",
    "df = df[df['face_score'] >= 3]\n",
    "\n",
    "# cinsiyeti olmayan fotograflar cikartiliyor\n",
    "df = df[~df['gender'].isna()]\n",
    "\n",
    "df = df.drop(\n",
    "    columns=['name', 'face_score', 'second_face_score', 'date_of_birth', 'face_location', 'dob', 'photo_taken'])\n",
    "# 0 - 100 yas araliginda olmayanlar cikartiliyor\n",
    "df = df[df['age'] <= 100]\n",
    "df = df[df['age'] > 0]"
   ]
  },
  {
   "cell_type": "code",
   "execution_count": 6,
   "metadata": {},
   "outputs": [
    {
     "data": {
      "text/html": [
       "<div>\n",
       "<style scoped>\n",
       "    .dataframe tbody tr th:only-of-type {\n",
       "        vertical-align: middle;\n",
       "    }\n",
       "\n",
       "    .dataframe tbody tr th {\n",
       "        vertical-align: top;\n",
       "    }\n",
       "\n",
       "    .dataframe thead th {\n",
       "        text-align: right;\n",
       "    }\n",
       "</style>\n",
       "<table border=\"1\" class=\"dataframe\">\n",
       "  <thead>\n",
       "    <tr style=\"text-align: right;\">\n",
       "      <th></th>\n",
       "      <th>full_path</th>\n",
       "      <th>gender</th>\n",
       "      <th>age</th>\n",
       "    </tr>\n",
       "  </thead>\n",
       "  <tbody>\n",
       "    <tr>\n",
       "      <th>0</th>\n",
       "      <td>[17/10000217_1981-05-05_2009.jpg]</td>\n",
       "      <td>1.0</td>\n",
       "      <td>28</td>\n",
       "    </tr>\n",
       "    <tr>\n",
       "      <th>2</th>\n",
       "      <td>[12/100012_1948-07-03_2008.jpg]</td>\n",
       "      <td>1.0</td>\n",
       "      <td>60</td>\n",
       "    </tr>\n",
       "    <tr>\n",
       "      <th>4</th>\n",
       "      <td>[16/10002116_1971-05-31_2012.jpg]</td>\n",
       "      <td>0.0</td>\n",
       "      <td>41</td>\n",
       "    </tr>\n",
       "    <tr>\n",
       "      <th>5</th>\n",
       "      <td>[02/10002702_1960-11-09_2012.jpg]</td>\n",
       "      <td>0.0</td>\n",
       "      <td>52</td>\n",
       "    </tr>\n",
       "    <tr>\n",
       "      <th>6</th>\n",
       "      <td>[41/10003541_1937-09-27_1971.jpg]</td>\n",
       "      <td>1.0</td>\n",
       "      <td>34</td>\n",
       "    </tr>\n",
       "  </tbody>\n",
       "</table>\n",
       "</div>"
      ],
      "text/plain": [
       "                           full_path  gender  age\n",
       "0  [17/10000217_1981-05-05_2009.jpg]     1.0   28\n",
       "2    [12/100012_1948-07-03_2008.jpg]     1.0   60\n",
       "4  [16/10002116_1971-05-31_2012.jpg]     0.0   41\n",
       "5  [02/10002702_1960-11-09_2012.jpg]     0.0   52\n",
       "6  [41/10003541_1937-09-27_1971.jpg]     1.0   34"
      ]
     },
     "execution_count": 6,
     "metadata": {},
     "output_type": "execute_result"
    }
   ],
   "source": [
    "df.head()"
   ]
  },
  {
   "cell_type": "code",
   "execution_count": 7,
   "metadata": {},
   "outputs": [],
   "source": [
    "# pathlerin uygun formata getirilmesi\n",
    "paths = []\n",
    "for index, i in enumerate(df['full_path']):\n",
    "    paths.append(i[0])\n",
    "df['path'] = paths\n",
    "df['path'] = \"wiki_crop/\" + df['path']\n",
    "df = df.drop(columns=['full_path', 'age'])"
   ]
  },
  {
   "cell_type": "code",
   "execution_count": 9,
   "metadata": {},
   "outputs": [
    {
     "data": {
      "text/html": [
       "<div>\n",
       "<style scoped>\n",
       "    .dataframe tbody tr th:only-of-type {\n",
       "        vertical-align: middle;\n",
       "    }\n",
       "\n",
       "    .dataframe tbody tr th {\n",
       "        vertical-align: top;\n",
       "    }\n",
       "\n",
       "    .dataframe thead th {\n",
       "        text-align: right;\n",
       "    }\n",
       "</style>\n",
       "<table border=\"1\" class=\"dataframe\">\n",
       "  <thead>\n",
       "    <tr style=\"text-align: right;\">\n",
       "      <th></th>\n",
       "      <th>gender</th>\n",
       "      <th>path</th>\n",
       "    </tr>\n",
       "  </thead>\n",
       "  <tbody>\n",
       "    <tr>\n",
       "      <th>0</th>\n",
       "      <td>1.0</td>\n",
       "      <td>wiki_crop/17/10000217_1981-05-05_2009.jpg</td>\n",
       "    </tr>\n",
       "    <tr>\n",
       "      <th>2</th>\n",
       "      <td>1.0</td>\n",
       "      <td>wiki_crop/12/100012_1948-07-03_2008.jpg</td>\n",
       "    </tr>\n",
       "    <tr>\n",
       "      <th>4</th>\n",
       "      <td>0.0</td>\n",
       "      <td>wiki_crop/16/10002116_1971-05-31_2012.jpg</td>\n",
       "    </tr>\n",
       "    <tr>\n",
       "      <th>5</th>\n",
       "      <td>0.0</td>\n",
       "      <td>wiki_crop/02/10002702_1960-11-09_2012.jpg</td>\n",
       "    </tr>\n",
       "    <tr>\n",
       "      <th>6</th>\n",
       "      <td>1.0</td>\n",
       "      <td>wiki_crop/41/10003541_1937-09-27_1971.jpg</td>\n",
       "    </tr>\n",
       "  </tbody>\n",
       "</table>\n",
       "</div>"
      ],
      "text/plain": [
       "   gender                                       path\n",
       "0     1.0  wiki_crop/17/10000217_1981-05-05_2009.jpg\n",
       "2     1.0    wiki_crop/12/100012_1948-07-03_2008.jpg\n",
       "4     0.0  wiki_crop/16/10002116_1971-05-31_2012.jpg\n",
       "5     0.0  wiki_crop/02/10002702_1960-11-09_2012.jpg\n",
       "6     1.0  wiki_crop/41/10003541_1937-09-27_1971.jpg"
      ]
     },
     "execution_count": 9,
     "metadata": {},
     "output_type": "execute_result"
    }
   ],
   "source": [
    "df.head()"
   ]
  },
  {
   "cell_type": "code",
   "execution_count": 11,
   "metadata": {},
   "outputs": [],
   "source": [
    "# yuz tespit edilemeyen fotograflarin cikartilmasi\n",
    "df['detection'] = df['path'].apply(check_detection)\n",
    "df = df[df.detection == True]\n",
    "df = df.drop(columns='detection')"
   ]
  },
  {
   "cell_type": "code",
   "execution_count": 14,
   "metadata": {},
   "outputs": [],
   "source": [
    "# verinin training icin uygun hale getirilmesi\n",
    "classes = 2\n",
    "target = df['gender'].values\n",
    "target_classes = keras.utils.to_categorical(target, classes)\n",
    "\n",
    "features = []\n",
    "\n",
    "for i in range(0, df.shape[0]):\n",
    "    features.append(df['path'].values[i])"
   ]
  },
  {
   "cell_type": "code",
   "execution_count": 15,
   "metadata": {},
   "outputs": [],
   "source": [
    "train_x, test_x, train_y, test_y = train_test_split(features, target_classes, test_size=0.20)"
   ]
  },
  {
   "cell_type": "code",
   "execution_count": 16,
   "metadata": {
    "scrolled": true
   },
   "outputs": [],
   "source": [
    "# veri setinde yuz tespiti yapiliyor\n",
    "temp_list = []\n",
    "for i in train_x:\n",
    "    img = detect_face(i)\n",
    "    temp_list.append(img)\n",
    "\n",
    "train_x = temp_list\n",
    "temp_list2 = []\n",
    "    \n",
    "for i in test_x:\n",
    "    img = detect_face(i)\n",
    "    temp_list2.append(img)\n",
    "\n",
    "test_x = temp_list2"
   ]
  },
  {
   "cell_type": "code",
   "execution_count": 17,
   "metadata": {},
   "outputs": [],
   "source": [
    "# veriler egitim icin uygun formata getiriliyor (memory tuketimi fazla olabilir)\n",
    "train_x = np.array(train_x)/255\n",
    "test_x = np.array(test_x)/255\n",
    "\n",
    "train_x, val_x, train_y, val_y = train_test_split(train_x, train_y\n",
    "                                        , test_size=0.1, random_state=17)"
   ]
  },
  {
   "cell_type": "code",
   "execution_count": 18,
   "metadata": {},
   "outputs": [],
   "source": [
    "# vgg-face modeli\n",
    "model = Sequential()\n",
    "model.add(ZeroPadding2D((1, 1), input_shape=(224, 224, 3)))\n",
    "model.add(Convolution2D(64, (3, 3), activation='relu'))\n",
    "model.add(ZeroPadding2D((1, 1)))\n",
    "model.add(Convolution2D(64, (3, 3), activation='relu'))\n",
    "model.add(MaxPooling2D((2, 2), strides=(2, 2)))\n",
    "\n",
    "model.add(ZeroPadding2D((1, 1)))\n",
    "model.add(Convolution2D(128, (3, 3), activation='relu'))\n",
    "model.add(ZeroPadding2D((1, 1)))\n",
    "model.add(Convolution2D(128, (3, 3), activation='relu'))\n",
    "model.add(MaxPooling2D((2, 2), strides=(2, 2)))\n",
    "\n",
    "model.add(ZeroPadding2D((1, 1)))\n",
    "model.add(Convolution2D(256, (3, 3), activation='relu'))\n",
    "model.add(ZeroPadding2D((1, 1)))\n",
    "model.add(Convolution2D(256, (3, 3), activation='relu'))\n",
    "model.add(ZeroPadding2D((1, 1)))\n",
    "model.add(Convolution2D(256, (3, 3), activation='relu'))\n",
    "model.add(MaxPooling2D((2, 2), strides=(2, 2)))\n",
    "\n",
    "model.add(ZeroPadding2D((1, 1)))\n",
    "model.add(Convolution2D(512, (3, 3), activation='relu'))\n",
    "model.add(ZeroPadding2D((1, 1)))\n",
    "model.add(Convolution2D(512, (3, 3), activation='relu'))\n",
    "model.add(ZeroPadding2D((1, 1)))\n",
    "model.add(Convolution2D(512, (3, 3), activation='relu'))\n",
    "model.add(MaxPooling2D((2, 2), strides=(2, 2)))\n",
    "\n",
    "model.add(ZeroPadding2D((1, 1)))\n",
    "model.add(Convolution2D(512, (3, 3), activation='relu'))\n",
    "model.add(ZeroPadding2D((1, 1)))\n",
    "model.add(Convolution2D(512, (3, 3), activation='relu'))\n",
    "model.add(ZeroPadding2D((1, 1)))\n",
    "model.add(Convolution2D(512, (3, 3), activation='relu'))\n",
    "model.add(MaxPooling2D((2, 2), strides=(2, 2)))\n",
    "\n",
    "model.add(Convolution2D(4096, (7, 7), activation='relu'))\n",
    "model.add(Dropout(0.5))\n",
    "model.add(Convolution2D(4096, (1, 1), activation='relu'))\n",
    "model.add(Dropout(0.5))\n",
    "model.add(Convolution2D(2622, (1, 1)))\n",
    "model.add(Flatten())\n",
    "model.add(Activation('softmax'))\n",
    "\n",
    "model.load_weights('vgg_face_weights.h5')\n",
    "\n",
    "for layer in model.layers[:-7]:\n",
    "    layer.trainable = False\n",
    "    \n",
    "# son katmanlar eklenerek egitim icin hazir hale getiriliyor\n",
    "base_model_output = Sequential()\n",
    "base_model_output = Convolution2D(classes, (1, 1), name='predictions')(model.layers[-4].output)\n",
    "base_model_output = Flatten()(base_model_output)\n",
    "base_model_output = Activation('softmax')(base_model_output)\n",
    "\n",
    "beauty_model = Model(inputs=model.input, outputs=base_model_output)\n",
    "\n",
    "beauty_model.compile(loss='categorical_crossentropy'\n",
    "                  , optimizer=keras.optimizers.Adam()\n",
    "                  , metrics=['accuracy']\n",
    "                 )"
   ]
  },
  {
   "cell_type": "code",
   "execution_count": 19,
   "metadata": {},
   "outputs": [
    {
     "name": "stdout",
     "output_type": "stream",
     "text": [
      "Epoch 1/10\n",
      "498/498 [==============================] - ETA: 0s - loss: 0.1634 - accuracy: 0.9474\n",
      "Epoch 00001: val_loss improved from inf to 0.10526, saving model to models/gender_new.hdf5\n",
      "498/498 [==============================] - 219s 439ms/step - loss: 0.1634 - accuracy: 0.9474 - val_loss: 0.1053 - val_accuracy: 0.9610\n",
      "Epoch 2/10\n",
      "498/498 [==============================] - ETA: 0s - loss: 0.1075 - accuracy: 0.9665\n",
      "Epoch 00002: val_loss did not improve from 0.10526\n",
      "498/498 [==============================] - 214s 429ms/step - loss: 0.1075 - accuracy: 0.9665 - val_loss: 0.1267 - val_accuracy: 0.9644\n",
      "Epoch 3/10\n",
      "498/498 [==============================] - ETA: 0s - loss: 0.0873 - accuracy: 0.9739\n",
      "Epoch 00003: val_loss improved from 0.10526 to 0.09210, saving model to models/gender_new.hdf5\n",
      "498/498 [==============================] - 221s 445ms/step - loss: 0.0873 - accuracy: 0.9739 - val_loss: 0.0921 - val_accuracy: 0.9718\n",
      "Epoch 4/10\n",
      "498/498 [==============================] - ETA: 0s - loss: 0.0759 - accuracy: 0.9783\n",
      "Epoch 00004: val_loss did not improve from 0.09210\n",
      "498/498 [==============================] - 189s 379ms/step - loss: 0.0759 - accuracy: 0.9783 - val_loss: 0.1154 - val_accuracy: 0.9610\n",
      "Epoch 5/10\n",
      "498/498 [==============================] - ETA: 0s - loss: 0.0617 - accuracy: 0.9827\n",
      "Epoch 00005: val_loss did not improve from 0.09210\n",
      "498/498 [==============================] - 186s 374ms/step - loss: 0.0617 - accuracy: 0.9827 - val_loss: 0.1031 - val_accuracy: 0.9734\n",
      "Epoch 6/10\n",
      "498/498 [==============================] - ETA: 0s - loss: 0.0549 - accuracy: 0.9847\n",
      "Epoch 00006: val_loss did not improve from 0.09210\n",
      "498/498 [==============================] - 184s 370ms/step - loss: 0.0549 - accuracy: 0.9847 - val_loss: 0.1026 - val_accuracy: 0.9763\n",
      "Epoch 7/10\n",
      "498/498 [==============================] - ETA: 0s - loss: 0.0518 - accuracy: 0.9857\n",
      "Epoch 00007: val_loss did not improve from 0.09210\n",
      "498/498 [==============================] - 205s 411ms/step - loss: 0.0518 - accuracy: 0.9857 - val_loss: 0.1388 - val_accuracy: 0.9689\n",
      "Epoch 8/10\n",
      "498/498 [==============================] - ETA: 0s - loss: 0.0475 - accuracy: 0.9868\n",
      "Epoch 00008: val_loss did not improve from 0.09210\n",
      "498/498 [==============================] - 204s 410ms/step - loss: 0.0475 - accuracy: 0.9868 - val_loss: 0.1329 - val_accuracy: 0.9695\n"
     ]
    }
   ],
   "source": [
    "# /models klasoru olmasi gereklidir. Her tur sonunda en iyi model kontrolu yapilarak kaydedilecektir. \n",
    "checkpointer = ModelCheckpoint(\n",
    "    filepath='models/gender.hdf5'\n",
    "    , monitor=\"val_loss\"\n",
    "    , verbose=1\n",
    "    , save_best_only=True\n",
    "    , mode='auto'\n",
    ")\n",
    "\n",
    "# patience early stopping icin gerekli,\n",
    "# val_loss'un azalmasinin kac epoch beklenecegini belirtir. Azalmazsa egitimi durdurur.\n",
    "patience = 5\n",
    "epochs = 10\n",
    "\n",
    "early_stop = EarlyStopping(monitor='val_loss', patience=patience)\n",
    "\n",
    "score = beauty_model.fit(\n",
    "        train_x, train_y\n",
    "        , epochs=epochs\n",
    "        , validation_data=(val_x, val_y)\n",
    "        , callbacks=[checkpointer, early_stop]\n",
    "    )"
   ]
  },
  {
   "cell_type": "code",
   "execution_count": 24,
   "metadata": {},
   "outputs": [],
   "source": [
    "# en iyi model tekrar yuleniyor\n",
    "from keras.models import load_model\n",
    "beauty_model = load_model(\"models/gender.hdf5\")"
   ]
  },
  {
   "cell_type": "code",
   "execution_count": 25,
   "metadata": {},
   "outputs": [
    {
     "name": "stdout",
     "output_type": "stream",
     "text": [
      "139/139 [==============================] - 36s 255ms/step - loss: 0.0883 - accuracy: 0.9668\n",
      "results:[0.08834103494882584, 0.9667796492576599]\n"
     ]
    }
   ],
   "source": [
    "results = beauty_model.evaluate(test_x, test_y, verbose=1)\n",
    "print(f'results:{results}')"
   ]
  },
  {
   "cell_type": "markdown",
   "metadata": {},
   "source": [
    "Confusion Matrix"
   ]
  },
  {
   "cell_type": "code",
   "execution_count": 28,
   "metadata": {},
   "outputs": [
    {
     "name": "stdout",
     "output_type": "stream",
     "text": [
      "[[3117   32]\n",
      " [ 115 1161]]\n",
      "       Woman   Man\n",
      "Woman   3117    32\n",
      "Man      115  1161\n"
     ]
    },
    {
     "data": {
      "text/plain": [
       "<matplotlib.axes._subplots.AxesSubplot at 0x1ed1e89c070>"
      ]
     },
     "execution_count": 28,
     "metadata": {},
     "output_type": "execute_result"
    },
    {
     "data": {
      "image/png": "[encoded data removed]",
      "text/plain": [
       "<Figure size 432x288 with 2 Axes>"
      ]
     },
     "metadata": {
      "needs_background": "light"
     },
     "output_type": "display_data"
    }
   ],
   "source": [
    "predictions = beauty_model.predict(test_x)\n",
    "prediction_classes = []\n",
    "actual_classes = []\n",
    "beauty_classes = ['Woman', 'Man']\n",
    "for i in range(0, predictions.shape[0]):\n",
    "    prediction = np.argmax(predictions[i])\n",
    "    prediction_classes.append(beauty_classes[prediction])\n",
    "    actual = np.argmax(test_y[i])\n",
    "    actual_classes.append(beauty_classes[actual])\n",
    "\n",
    "from sklearn.metrics import classification_report, confusion_matrix\n",
    "import seaborn as sn\n",
    "\n",
    "cm = confusion_matrix(actual_classes, prediction_classes)\n",
    "print(cm)\n",
    "df_cm = pd.DataFrame(cm, index=beauty_classes, columns=beauty_classes)\n",
    "print(df_cm)\n",
    "sn.heatmap(df_cm, annot=True, annot_kws={\"size\": 10}, fmt=\".0f\")"
   ]
  }
 ],
 "metadata": {
  "kernelspec": {
   "display_name": "Python 3",
   "language": "python",
   "name": "python3"
  },
  "language_info": {
   "codemirror_mode": {
    "name": "ipython",
    "version": 3
   },
   "file_extension": ".py",
   "mimetype": "text/x-python",
   "name": "python",
   "nbconvert_exporter": "python",
   "pygments_lexer": "ipython3",
   "version": "3.8.3"
  }
 },
 "nbformat": 4,
 "nbformat_minor": 4
}
